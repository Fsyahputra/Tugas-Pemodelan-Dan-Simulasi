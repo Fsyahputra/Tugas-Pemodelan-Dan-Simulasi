{
 "cells": [
  {
   "cell_type": "code",
   "execution_count": 3,
   "id": "1007bab5",
   "metadata": {},
   "outputs": [
    {
     "name": "stdout",
     "output_type": "stream",
     "text": [
      "Collecting scipy\n",
      "  Downloading scipy-1.15.2-cp312-cp312-manylinux_2_17_x86_64.manylinux2014_x86_64.whl.metadata (61 kB)\n",
      "Collecting simpy\n",
      "  Downloading simpy-4.1.1-py3-none-any.whl.metadata (6.1 kB)\n",
      "Collecting pydy\n",
      "  Downloading pydy-0.7.1.tar.gz (6.6 MB)\n",
      "\u001b[2K     \u001b[90m━━━━━━━━━━━━━━━━━━━━━━━━━━━━━━━━━━━━━━━━\u001b[0m \u001b[32m6.6/6.6 MB\u001b[0m \u001b[31m4.9 MB/s\u001b[0m eta \u001b[36m0:00:00\u001b[0ma \u001b[36m0:00:01\u001b[0m\n",
      "\u001b[?25h  Installing build dependencies ... \u001b[?25ldone\n",
      "\u001b[?25h  Getting requirements to build wheel ... \u001b[?25ldone\n",
      "\u001b[?25h  Preparing metadata (pyproject.toml) ... \u001b[?25ldone\n",
      "\u001b[?25hCollecting scikit-learn\n",
      "  Using cached scikit_learn-1.6.1-cp312-cp312-manylinux_2_17_x86_64.manylinux2014_x86_64.whl.metadata (18 kB)\n",
      "Collecting pandas\n",
      "  Using cached pandas-2.2.3-cp312-cp312-manylinux_2_17_x86_64.manylinux2014_x86_64.whl.metadata (89 kB)\n",
      "Requirement already satisfied: numpy<2.5,>=1.23.5 in ./.venv/lib/python3.12/site-packages (from scipy) (2.2.5)\n",
      "Collecting setuptools>=44.0.0 (from pydy)\n",
      "  Using cached setuptools-79.0.0-py3-none-any.whl.metadata (6.5 kB)\n",
      "Collecting sympy>=1.5.1 (from pydy)\n",
      "  Using cached sympy-1.13.3-py3-none-any.whl.metadata (12 kB)\n",
      "Collecting joblib>=1.2.0 (from scikit-learn)\n",
      "  Using cached joblib-1.4.2-py3-none-any.whl.metadata (5.4 kB)\n",
      "Collecting threadpoolctl>=3.1.0 (from scikit-learn)\n",
      "  Downloading threadpoolctl-3.6.0-py3-none-any.whl.metadata (13 kB)\n",
      "Requirement already satisfied: python-dateutil>=2.8.2 in ./.venv/lib/python3.12/site-packages (from pandas) (2.9.0.post0)\n",
      "Collecting pytz>=2020.1 (from pandas)\n",
      "  Downloading pytz-2025.2-py2.py3-none-any.whl.metadata (22 kB)\n",
      "Collecting tzdata>=2022.7 (from pandas)\n",
      "  Downloading tzdata-2025.2-py2.py3-none-any.whl.metadata (1.4 kB)\n",
      "Requirement already satisfied: six>=1.5 in ./.venv/lib/python3.12/site-packages (from python-dateutil>=2.8.2->pandas) (1.17.0)\n",
      "Collecting mpmath<1.4,>=1.1.0 (from sympy>=1.5.1->pydy)\n",
      "  Using cached mpmath-1.3.0-py3-none-any.whl.metadata (8.6 kB)\n",
      "Downloading scipy-1.15.2-cp312-cp312-manylinux_2_17_x86_64.manylinux2014_x86_64.whl (37.3 MB)\n",
      "\u001b[2K   \u001b[90m━━━━━━━━━━━━━━━━━━━━━━━━━━━━━━━━━━━━━━━━\u001b[0m \u001b[32m37.3/37.3 MB\u001b[0m \u001b[31m4.2 MB/s\u001b[0m eta \u001b[36m0:00:00\u001b[0m00:01\u001b[0m00:01\u001b[0m\n",
      "\u001b[?25hDownloading simpy-4.1.1-py3-none-any.whl (27 kB)\n",
      "Using cached scikit_learn-1.6.1-cp312-cp312-manylinux_2_17_x86_64.manylinux2014_x86_64.whl (13.1 MB)\n",
      "Using cached pandas-2.2.3-cp312-cp312-manylinux_2_17_x86_64.manylinux2014_x86_64.whl (12.7 MB)\n",
      "Using cached joblib-1.4.2-py3-none-any.whl (301 kB)\n",
      "Downloading pytz-2025.2-py2.py3-none-any.whl (509 kB)\n",
      "Using cached setuptools-79.0.0-py3-none-any.whl (1.3 MB)\n",
      "Using cached sympy-1.13.3-py3-none-any.whl (6.2 MB)\n",
      "Downloading threadpoolctl-3.6.0-py3-none-any.whl (18 kB)\n",
      "Downloading tzdata-2025.2-py2.py3-none-any.whl (347 kB)\n",
      "Using cached mpmath-1.3.0-py3-none-any.whl (536 kB)\n",
      "Building wheels for collected packages: pydy\n",
      "  Building wheel for pydy (pyproject.toml) ... \u001b[?25ldone\n",
      "\u001b[?25h  Created wheel for pydy: filename=pydy-0.7.1-py3-none-any.whl size=5227246 sha256=0d5b9041dde609ef52e70dd4763aeb837f8b70344e15431b5bce2ac2c6bfbfe3\n",
      "  Stored in directory: /home/muhammad-fadhil-syahputra/.cache/pip/wheels/28/7e/87/5415c59364f9f5b903ec6dd90a4a77d539ff03cbb97163f861\n",
      "Successfully built pydy\n",
      "Installing collected packages: pytz, mpmath, tzdata, threadpoolctl, sympy, simpy, setuptools, scipy, joblib, scikit-learn, pydy, pandas\n",
      "Successfully installed joblib-1.4.2 mpmath-1.3.0 pandas-2.2.3 pydy-0.7.1 pytz-2025.2 scikit-learn-1.6.1 scipy-1.15.2 setuptools-79.0.0 simpy-4.1.1 sympy-1.13.3 threadpoolctl-3.6.0 tzdata-2025.2\n"
     ]
    }
   ],
   "source": [
    "!pip install scipy simpy pydy scikit-learn pandas"
   ]
  },
  {
   "cell_type": "code",
   "execution_count": 4,
   "id": "174d8cfc",
   "metadata": {},
   "outputs": [],
   "source": [
    "import numpy as np\n"
   ]
  },
  {
   "cell_type": "code",
   "execution_count": 11,
   "id": "28a535c7",
   "metadata": {},
   "outputs": [
    {
     "data": {
      "text/plain": [
       "[0, 7, 4, 7, 8, 7, 9, 2, 4, 3, 7, 10, 2, 7, 2, 7, 5, 1, 5, 3]"
      ]
     },
     "execution_count": 11,
     "metadata": {},
     "output_type": "execute_result"
    }
   ],
   "source": [
    "nthNasabah = np.arange(1, 21, 1)\n",
    "waktuAntarKedatangan = []\n",
    "waktuAntarPelayanan = []\n",
    "\n",
    "for nasabah in nthNasabah:\n",
    "    waktuAntarKedatangan.append(np.random.randint(1, 11))\n",
    "    waktuAntarPelayanan.append(np.random.randint(1, 7))\n",
    "\n",
    "waktuAntarKedatangan[0] = 0\n",
    "waktuAntarKedatangan"
   ]
  },
  {
   "cell_type": "code",
   "execution_count": 21,
   "id": "3557c585",
   "metadata": {},
   "outputs": [
    {
     "name": "stdout",
     "output_type": "stream",
     "text": [
      "[0, 7, 4, 7, 8, 7, 9, 2, 4, 3, 7, 10, 2, 7, 2, 7, 5, 1, 5, 3]\n",
      "[  0.   7.  11.  18.  26.  33.  42.  44.  48.  51.  58.  68.  70.  77.\n",
      "  79.  86.  91.  92.  97. 100.]\n"
     ]
    }
   ],
   "source": [
    "waktuKedatangan = np.zeros(len(waktuAntarKedatangan))\n",
    "\n",
    "for i in range(len(waktuAntarKedatangan)):\n",
    "    waktuKedatangan[i] = sum(waktuAntarKedatangan[:i+1])\n",
    "\n",
    "print(waktuAntarKedatangan)\n",
    "print(waktuKedatangan)"
   ]
  }
 ],
 "metadata": {
  "kernelspec": {
   "display_name": ".venv",
   "language": "python",
   "name": "python3"
  },
  "language_info": {
   "codemirror_mode": {
    "name": "ipython",
    "version": 3
   },
   "file_extension": ".py",
   "mimetype": "text/x-python",
   "name": "python",
   "nbconvert_exporter": "python",
   "pygments_lexer": "ipython3",
   "version": "3.12.7"
  }
 },
 "nbformat": 4,
 "nbformat_minor": 5
}
